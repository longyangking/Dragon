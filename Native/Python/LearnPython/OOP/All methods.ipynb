{
 "cells": [
  {
   "cell_type": "code",
   "execution_count": 39,
   "metadata": {},
   "outputs": [],
   "source": [
    "class Family:\n",
    "    def __init__(self, number):\n",
    "        self.number = number\n",
    "        self.family_member = range(self.number)\n",
    "        \n",
    "        self.__iter_index = 0\n",
    "        \n",
    "    def __str__(self):\n",
    "        return 'Family: {0}'.format(self.number)\n",
    "    \n",
    "    __repr__ = __str__\n",
    "    \n",
    "    \"\"\"\n",
    "    Functions for iterations\n",
    "    \"\"\"\n",
    "    def __iter__(self):\n",
    "        self.__iter_index = 0\n",
    "        return self\n",
    "    \n",
    "    def __next__(self):\n",
    "        if self.__iter_index < self.number:\n",
    "            value = self.family_member[self.__iter_index]\n",
    "            self.__iter_index += 1\n",
    "            return value\n",
    "        else:\n",
    "            raise StopIteration()\n",
    "            \n",
    "    \"\"\"\n",
    "    Functions for list\n",
    "    \"\"\"\n",
    "    def __getitem__(self, n):\n",
    "        ## When n is int\n",
    "        if isinstance(n, int):\n",
    "            if (n < 0) and (n >= self.number):\n",
    "                raise IndexError('Class Familt: Out of indexs')\n",
    "            return self.family_member[n]\n",
    "        \n",
    "        ## When n is slice\n",
    "        if isinstance(n, slice):\n",
    "            start = n.start\n",
    "            end = n.stop\n",
    "            if start is None:\n",
    "                start = 0\n",
    "            if end < 0:\n",
    "                end = self.number + 1 + end\n",
    "            values = list()\n",
    "            for i in range(start, end):\n",
    "                value = self.family_member[i]\n",
    "                values.append(value)\n",
    "            return values\n",
    "    \n",
    "    \"\"\"\n",
    "    Functions for avoiding invoking error\n",
    "    \"\"\"\n",
    "    def __getattr__(self, attr):\n",
    "        #raise AttributeError('\\'Family\\' object has no attribute \\'%s\\'' % attr)\n",
    "        print('Family object has no attrbute: {0}'.format(attr))\n",
    "        \n",
    "    \"\"\"\n",
    "    Functions for calling\n",
    "    \"\"\"\n",
    "    def __call__(self, n):\n",
    "        if (n < 0) and (n >= self.number):\n",
    "            #raise IndexError('Class Familt: Out of indexs')\n",
    "            print(\"Out of index\")\n",
    "        return self.family_member[n]\n",
    "    \n",
    "    "
   ]
  },
  {
   "cell_type": "code",
   "execution_count": 41,
   "metadata": {
    "scrolled": true
   },
   "outputs": [
    {
     "name": "stdout",
     "output_type": "stream",
     "text": [
      "Family: 10\n",
      "0 1 2 3 4 5 6 7 8 9 \n",
      "0 1 2 3 4 5 6 7 8 9 \n",
      "[0, 1, 2, 3, 4, 5, 6, 7, 8, 9]\n",
      "Family object has no attrbute: name\n",
      "2\n",
      "True\n"
     ]
    }
   ],
   "source": [
    "family = Family(10)\n",
    "print(family)\n",
    "\n",
    "for i in range(10):\n",
    "    print(family[i], end=\" \")\n",
    "print()\n",
    "\n",
    "for member in family:\n",
    "    print(member, end=\" \")\n",
    "print()\n",
    "\n",
    "print(family[:-1])\n",
    "\n",
    "family.name\n",
    "\n",
    "print(family[2])\n",
    "\n",
    "print(callable(family))"
   ]
  },
  {
   "cell_type": "code",
   "execution_count": null,
   "metadata": {
    "collapsed": true
   },
   "outputs": [],
   "source": []
  }
 ],
 "metadata": {
  "kernelspec": {
   "display_name": "Python 3",
   "language": "python",
   "name": "python3"
  },
  "language_info": {
   "codemirror_mode": {
    "name": "ipython",
    "version": 3
   },
   "file_extension": ".py",
   "mimetype": "text/x-python",
   "name": "python",
   "nbconvert_exporter": "python",
   "pygments_lexer": "ipython3",
   "version": "3.6.3"
  }
 },
 "nbformat": 4,
 "nbformat_minor": 2
}
