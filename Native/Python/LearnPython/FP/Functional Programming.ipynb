{
 "cells": [
  {
   "cell_type": "code",
   "execution_count": 35,
   "metadata": {
    "collapsed": true
   },
   "outputs": [],
   "source": [
    "class Operator:\n",
    "    def __init__(self, name):\n",
    "        self.name = name\n",
    "    \n",
    "    def __str__(self):\n",
    "        return 'Class: {0}'.format(self.name)\n",
    "    \n",
    "    def __repr__(self):\n",
    "        return 'Class: {0}'.format(self.name)\n",
    "\n",
    "class Add(Operator):\n",
    "    def __init__(self):\n",
    "        name = 'Add'\n",
    "        super().__init__(name=name)\n",
    "    \n",
    "    def __call__(self, x, y):\n",
    "        return x + y\n",
    "    \n",
    "class Sub(Operator):\n",
    "    def __init__(self):\n",
    "        super().__init__(name='Substract')\n",
    "        \n",
    "    def __call__(self, x, y):\n",
    "        return x - y\n",
    "    \n",
    "class Mul(Operator):\n",
    "    def __init__(self):\n",
    "        super().__init__(name='Multiply')\n",
    "        \n",
    "    def __call__(self, x, y):\n",
    "        return  x*y\n",
    "    \n",
    "class Div(Operator):\n",
    "    def __init__(self):\n",
    "        super().__init__(name='Divide')\n",
    "    \n",
    "    def __call__(self, x, y):\n",
    "#         if y == 0:\n",
    "#             raise ZeroDivisionError('Exception in Class Divide: Divided by Zero!')\n",
    "#         value = x/y\n",
    "#         return value\n",
    "        try:\n",
    "            value = x/y\n",
    "            return value\n",
    "        except ZeroDivisionError as e:  \n",
    "            print('Oops: Divide by Zero!')"
   ]
  },
  {
   "cell_type": "code",
   "execution_count": 36,
   "metadata": {},
   "outputs": [],
   "source": [
    "add = Add()\n",
    "sub = Sub()\n",
    "mul = Mul()\n",
    "div = Div()"
   ]
  },
  {
   "cell_type": "code",
   "execution_count": 37,
   "metadata": {},
   "outputs": [
    {
     "data": {
      "text/plain": [
       "15"
      ]
     },
     "execution_count": 37,
     "metadata": {},
     "output_type": "execute_result"
    }
   ],
   "source": [
    "from functools import reduce\n",
    "reduce(add, [1,2,3,4,5])"
   ]
  },
  {
   "cell_type": "code",
   "execution_count": 38,
   "metadata": {},
   "outputs": [
    {
     "data": {
      "text/plain": [
       "-13"
      ]
     },
     "execution_count": 38,
     "metadata": {},
     "output_type": "execute_result"
    }
   ],
   "source": [
    "reduce(sub, [1,2,3,4,5])"
   ]
  },
  {
   "cell_type": "code",
   "execution_count": null,
   "metadata": {
    "collapsed": true
   },
   "outputs": [],
   "source": []
  }
 ],
 "metadata": {
  "kernelspec": {
   "display_name": "Python 3",
   "language": "python",
   "name": "python3"
  },
  "language_info": {
   "codemirror_mode": {
    "name": "ipython",
    "version": 3
   },
   "file_extension": ".py",
   "mimetype": "text/x-python",
   "name": "python",
   "nbconvert_exporter": "python",
   "pygments_lexer": "ipython3",
   "version": "3.6.3"
  }
 },
 "nbformat": 4,
 "nbformat_minor": 2
}
