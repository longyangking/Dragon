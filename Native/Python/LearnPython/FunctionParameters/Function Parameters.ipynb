{
 "cells": [
  {
   "cell_type": "code",
   "execution_count": 9,
   "metadata": {
    "collapsed": true
   },
   "outputs": [],
   "source": [
    "def func(x,y,*paras,**args):\n",
    "    print(\"x = {0}, y = {1}\".format(x,y))\n",
    "    print(paras)\n",
    "    print(args)\n",
    "    if \"test\" in args:\n",
    "        print(\"Has test! {0}\".format(args[\"test\"]))"
   ]
  },
  {
   "cell_type": "code",
   "execution_count": 10,
   "metadata": {},
   "outputs": [
    {
     "name": "stdout",
     "output_type": "stream",
     "text": [
      "x = 1, y = 2\n",
      "(3, 4)\n",
      "{'test': 1, 'ali': 2}\n",
      "Has test! 1\n"
     ]
    }
   ],
   "source": [
    "func(1,2,3,4,test=1,ali=2)"
   ]
  },
  {
   "cell_type": "code",
   "execution_count": 13,
   "metadata": {},
   "outputs": [
    {
     "name": "stdout",
     "output_type": "stream",
     "text": [
      "x = 1, y = 2\n",
      "(3, 4)\n",
      "{'test': 1, 'ali': 2}\n",
      "Has test! 1\n"
     ]
    }
   ],
   "source": [
    "args={'test': 1, 'ali': 2}\n",
    "func(1,2,3,4,**args)"
   ]
  },
  {
   "cell_type": "code",
   "execution_count": null,
   "metadata": {
    "collapsed": true
   },
   "outputs": [],
   "source": []
  }
 ],
 "metadata": {
  "kernelspec": {
   "display_name": "Python 3",
   "language": "python",
   "name": "python3"
  },
  "language_info": {
   "codemirror_mode": {
    "name": "ipython",
    "version": 3
   },
   "file_extension": ".py",
   "mimetype": "text/x-python",
   "name": "python",
   "nbconvert_exporter": "python",
   "pygments_lexer": "ipython3",
   "version": "3.6.3"
  }
 },
 "nbformat": 4,
 "nbformat_minor": 2
}
