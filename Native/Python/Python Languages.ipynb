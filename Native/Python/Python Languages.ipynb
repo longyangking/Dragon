{
 "cells": [
  {
   "cell_type": "markdown",
   "metadata": {},
   "source": [
    "# Python Languages"
   ]
  },
  {
   "cell_type": "markdown",
   "metadata": {},
   "source": [
    "## Function Calling with multiple parameters and arguments"
   ]
  },
  {
   "cell_type": "code",
   "execution_count": 17,
   "metadata": {
    "collapsed": false
   },
   "outputs": [
    {
     "name": "stdout",
     "output_type": "stream",
     "text": [
      "1\n",
      "2\n",
      "()\n",
      "Len =  0\n",
      "t is None\n",
      "{}\n",
      "1\n",
      "2\n",
      "()\n",
      "Len =  2\n",
      "{'z': 3, 't': 2}\n"
     ]
    }
   ],
   "source": [
    "def func(x,y=100,*parameters,**args):\n",
    "    print x\n",
    "    print y\n",
    "    print parameters\n",
    "    print 'Len = ',len(args)\n",
    "    if not args.has_key('t'):\n",
    "        print 't is None'\n",
    "    print args\n",
    "    \n",
    "func(x=1,y=2)\n",
    "func(x=1,t=2,y=2,z=3)"
   ]
  },
  {
   "cell_type": "code",
   "execution_count": null,
   "metadata": {
    "collapsed": true
   },
   "outputs": [],
   "source": []
  }
 ],
 "metadata": {
  "kernelspec": {
   "display_name": "Python 2",
   "language": "python",
   "name": "python2"
  },
  "language_info": {
   "codemirror_mode": {
    "name": "ipython",
    "version": 2
   },
   "file_extension": ".py",
   "mimetype": "text/x-python",
   "name": "python",
   "nbconvert_exporter": "python",
   "pygments_lexer": "ipython2",
   "version": "2.7.12"
  }
 },
 "nbformat": 4,
 "nbformat_minor": 0
}
